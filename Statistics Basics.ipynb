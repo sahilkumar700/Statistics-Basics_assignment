{
 "cells": [
  {
   "cell_type": "code",
   "execution_count": null,
   "id": "e6150e82-58fa-44bf-877a-5d6dd84f74e5",
   "metadata": {},
   "outputs": [],
   "source": [
    "1. Explain the different types of data (qualitative and quantitative) and provide examples of each. Discuss \n",
    "nominal, ordinal, interval, and ratio scales."
   ]
  },
  {
   "cell_type": "code",
   "execution_count": null,
   "id": "acc6c215-b220-432b-a9d0-3a3d23b45756",
   "metadata": {},
   "outputs": [],
   "source": [
    "Types of Data:\n",
    "Qualitative Data (Categorical Data):\n",
    "\n",
    "Describes qualities or characteristics.\n",
    "Examples:\n",
    "Nominal: Categories with no inherent order (e.g., eye color, gender).\n",
    "Ordinal: Categories with a defined order or ranking (e.g., education level: high school, bachelor's, master's).\n",
    "Quantitative Data (Numerical Data):\n",
    "\n",
    "Describes quantities and can be measured.\n",
    "Examples:\n",
    "Interval: Numerical data where differences between values are meaningful, but there is no true zero (e.g., temperature in Celsius).\n",
    "Ratio: Numerical data with a true zero, allowing for comparisons of magnitude (e.g., height, weight, age).\n",
    "Scales of Measurement:\n",
    "Nominal Scale:\n",
    "\n",
    "Data is categorized without any order.\n",
    "Example: Colors (Red, Blue, Green).\n",
    "Ordinal Scale:\n",
    "\n",
    "Data is categorized and has a meaningful order, but intervals between categories are not uniform.\n",
    "Example: Ranking of movies (1st, 2nd, 3rd place).\n",
    "Interval Scale:\n",
    "\n",
    "Data is ordered, and intervals between values are consistent, but there is no true zero.\n",
    "Example: Temperature in Celsius or Fahrenheit.\n",
    "Ratio Scale:\n",
    "\n",
    "Data has a true zero and consistent intervals, allowing for all mathematical operations.\n"
   ]
  },
  {
   "cell_type": "code",
   "execution_count": null,
   "id": "5571962a-a824-49b6-bde3-dbf81e1218d2",
   "metadata": {},
   "outputs": [],
   "source": [
    "2. What are the measures of central tendency, and when should you use each? Discuss the mean, median, \n",
    "and mode with examples and situations where each is appropriate."
   ]
  },
  {
   "cell_type": "code",
   "execution_count": null,
   "id": "6c6611cd-4f63-41ef-b634-08302fd14048",
   "metadata": {},
   "outputs": [],
   "source": [
    "Measures of Central Tendency:\n",
    "These are statistical measures that summarize a data set by identifying the central or typical value. The three main measures are mean, median, and mode.\n",
    "\n",
    "Mean (Arithmetic Average):\n",
    "\n",
    "The sum of all values divided by the number of values.\n",
    "Formula: \n",
    "Mean = sigma x/n ,where \n",
    "𝑋\n",
    "X is the data values and \n",
    "𝑁\n",
    "N is the number of data points.\n",
    "When to use: Best for normally distributed data or when the data has no extreme outliers.\n",
    "Example: Average test score of students: If scores are 85, 90, and 95, the mean is \n",
    "85+90+95/3 = 90\n",
    "\n",
    "The middle value when data is ordered from least to greatest. If there’s an even number of data points, it’s the average of the two middle values.\n",
    "When to use: Useful for skewed distributions or when there are outliers that could distort the mean.\n",
    "Example: Median income from the data [20k, 30k, 50k] is 30k (the middle value). If the data were [20k, 30k, 100k], the median would be 30k.\n",
    "Mode:\n",
    "\n",
    "The value that appears most frequently in the dataset.\n",
    "When to use: Best for nominal data or when identifying the most common occurrence.\n",
    "Example: In a survey where the most common response is \"Yes\", the mode is \"Yes\". If the responses were [Yes, No, Yes, No, Yes], the mode is \"Yes\" because it appears the most."
   ]
  },
  {
   "cell_type": "code",
   "execution_count": null,
   "id": "9e8295f2-2070-436b-85b4-ad94fb14c9d2",
   "metadata": {},
   "outputs": [],
   "source": [
    "3.Explain the concept of dispersion. How do variance and standard deviation measure the spread of data?"
   ]
  },
  {
   "cell_type": "code",
   "execution_count": null,
   "id": "5afc44f8-093c-498b-959a-94c3b6fb9bfd",
   "metadata": {},
   "outputs": [],
   "source": [
    "Concept of Dispersion:\n",
    "Dispersion refers to the extent to which data points in a dataset vary or spread out from the central value (mean). It shows how much the values differ from the average, helping to understand the consistency or variability of the data.\n",
    "\n",
    "Measures of Dispersion:\n",
    "Variance:\n",
    "\n",
    "Variance measures the average squared deviation of each data point from the mean. It gives an idea of how much the data points deviate from the mean.\n",
    "\n",
    "Interpretation: A high variance means the data points are spread out; a low variance means they are close to the mean.\n",
    "Standard Deviation:\n",
    "\n",
    "The standard deviation is the square root of the variance. It provides a more interpretable measure of spread, in the same units as the data itself.\n",
    "Formula:\n",
    "Standard Deviation=rootunder variance\n",
    "Interpretation: A larger standard deviation indicates more spread in the data, while a smaller standard deviation indicates that the data points are close to the mean."
   ]
  },
  {
   "cell_type": "code",
   "execution_count": null,
   "id": "3a33fbe4-7d98-4e10-9cad-255a8c11b75f",
   "metadata": {},
   "outputs": [],
   "source": [
    "4.What is a box plot, and what can it tell you about the distribution of data?"
   ]
  },
  {
   "cell_type": "code",
   "execution_count": null,
   "id": "43dcab13-b9da-42d5-ab75-e158db60a9ef",
   "metadata": {},
   "outputs": [],
   "source": [
    "Box Plot (Box-and-Whisker Plot):\n",
    "A box plot is a graphical representation of the distribution of a dataset. It summarizes key statistical information, such as the median, quartiles, and potential outliers.\n",
    "\n",
    "Key Components of a Box Plot:\n",
    "Box: Represents the interquartile range (IQR), which contains the middle 50% of the data. The box is drawn from the first quartile (Q1) to the third quartile (Q3).\n",
    "Median: A line inside the box represents the median (the 50th percentile) of the data.\n",
    "Whiskers: The lines extending from the box show the range of the data, excluding outliers. The whiskers typically extend to 1.5 times the IQR from Q1 and Q3.\n",
    "Outliers: Data points outside the whiskers are considered outliers and are often represented as individual points.\n",
    "What a Box Plot Can Tell You:\n",
    "Central Tendency: The median shows the central value.\n",
    "Spread: The length of the box and whiskers indicates how spread out the data is.\n",
    "Skewness: If the median is closer to Q1 or Q3, it suggests skewness in the data.\n",
    "Outliers: Individual points outside the whiskers highlight potential outliers."
   ]
  },
  {
   "cell_type": "code",
   "execution_count": null,
   "id": "cad287b1-c01e-4e3e-baa2-773ffaab41ad",
   "metadata": {},
   "outputs": [],
   "source": [
    "5.Discuss the role of random sampling in making inferences about populations."
   ]
  },
  {
   "cell_type": "code",
   "execution_count": null,
   "id": "57c71cb6-fbd6-424b-840e-a3173e39ef80",
   "metadata": {},
   "outputs": [],
   "source": [
    "Role of Random Sampling in Making Inferences About Populations:\n",
    "Random sampling is a technique used to select a subset (sample) from a larger population in such a way that each member of the population has an equal chance of being selected. This process helps ensure that the sample is representative of the population, minimizing bias and increasing the reliability of inferences made.\n",
    "\n",
    "Key Points:\n",
    "Represents the Population: Random sampling helps ensure that the sample accurately reflects the characteristics of the larger population, making the results generalizable.\n",
    "\n",
    "Reduces Bias: By giving every individual an equal chance of being chosen, random sampling minimizes systematic errors or biases in the selection process.\n",
    "\n",
    "Enables Statistical Inferences: It allows researchers to make valid inferences (e.g., estimating population parameters like the mean or proportion) from the sample data using probability theory.\n",
    "\n",
    "Reliability of Results: With a properly chosen random sample, statistical methods can estimate the uncertainty (such as confidence intervals) of the inferences about the population.\n",
    "\n",
    "Example:\n",
    "If you randomly select 100 students from a university to estimate the average GPA of all students, random sampling ensures that all students have an equal opportunity to be chosen, leading to more reliable conclusions about the entire student body."
   ]
  },
  {
   "cell_type": "code",
   "execution_count": null,
   "id": "0d069407-9701-4aa8-8549-89107d94363c",
   "metadata": {},
   "outputs": [],
   "source": [
    "6. Explain the concept of skewness and its types. How does skewness affect the interpretation of data?"
   ]
  },
  {
   "cell_type": "code",
   "execution_count": null,
   "id": "7276faa2-99cf-4fee-88b4-cdba616214cb",
   "metadata": {},
   "outputs": [],
   "source": [
    "Skewness:\n",
    "Skewness refers to the asymmetry or distortion in the distribution of data. It indicates whether the data is leaning more to the left or right of the mean, rather than being symmetrically distributed.\n",
    "\n",
    "Types of Skewness:\n",
    "Positive Skew (Right Skew):\n",
    "\n",
    "The right tail of the distribution is longer or fatter.\n",
    "Most data points are concentrated on the left, with a few larger values stretching the distribution to the right.\n",
    "Example: Income distribution, where most people earn lower salaries, but a few earn much higher ones.\n",
    "Impact: The mean is greater than the median.\n",
    "Negative Skew (Left Skew):\n",
    "\n",
    "The left tail of the distribution is longer or fatter.\n",
    "Most data points are concentrated on the right, with a few smaller values stretching the distribution to the left.\n",
    "Example: Age at retirement, where most people retire at an older age, but a few retire earlier.\n",
    "Impact: The mean is less than the median.\n",
    "No Skew (Symmetrical):\n",
    "\n",
    "The data is evenly distributed around the mean.\n",
    "Example: Heights of a population.\n",
    "Impact: The mean equals the median.\n",
    "Effect of Skewness on Interpretation:\n",
    "Positive Skew: The mean may overestimate the central tendency because it is pulled to the right by the higher values.\n",
    "Negative Skew: The mean may underestimate the central tendency because it is pulled to the left by the lower values.\n",
    "Skewness can affect the choice of summary statistics, as the median may be more representative of the central value in skewed distributions, while the mean may be more appropriate for symmetric distributions."
   ]
  },
  {
   "cell_type": "code",
   "execution_count": null,
   "id": "edf324b7-4966-443b-999a-5e19d1c4874b",
   "metadata": {},
   "outputs": [],
   "source": [
    " 7. What is the interquartile range (IQR), and how is it used to detect outliers?"
   ]
  },
  {
   "cell_type": "code",
   "execution_count": null,
   "id": "8c6ddb15-fb3f-4a80-b0e3-1f05c3ceabfa",
   "metadata": {},
   "outputs": [],
   "source": [
    "Interquartile Range (IQR):\n",
    "The Interquartile Range (IQR) is a measure of statistical dispersion, representing the range within which the middle 50% of the data lies. It is the difference between the third quartile (Q3) and the first quartile (Q1):\n",
    "IQR=Q3−Q1\n",
    "Where:\n",
    "\n",
    "Q1 is the 25th percentile (the value below which 25% of the data falls),\n",
    "Q3 is the 75th percentile (the value below which 75% of the data falls).\n",
    "Using IQR to Detect Outliers:\n",
    "Outliers can be identified using the IQR as follows:\n",
    "\n",
    "Calculate the IQR: Find the difference between Q3 and Q1.\n",
    "\n",
    "Determine the outlier thresholds:\n",
    "lower threshold:\n",
    "Q1−1.5×IQR\n",
    "Upper threshold: \n",
    "Q3+1.5×IQR\n",
    "\n",
    "Outliers: Any data point below the lower threshold or above the upper threshold is considered an outlier.\n",
    "\n",
    "Example:\n",
    "If Q1 = 10, Q3 = 30, and IQR = 20, the thresholds are:\n",
    "Lower: \n",
    "10−1.5×20=−20\n",
    "Upper: \n",
    "30+1.5×20=60\n",
    "Any data point below -20 or above 60 would be considered an outlier."
   ]
  },
  {
   "cell_type": "code",
   "execution_count": null,
   "id": "b15093cc-16df-4401-a7ce-6c8a41a7d1cb",
   "metadata": {},
   "outputs": [],
   "source": [
    " 8. Discuss the conditions under which the binomial distribution is used."
   ]
  },
  {
   "cell_type": "code",
   "execution_count": null,
   "id": "5d562e16-4510-4a14-a78a-6f0129a57563",
   "metadata": {},
   "outputs": [],
   "source": [
    "Conditions for Using the Binomial Distribution:\n",
    "The binomial distribution is used when the following conditions are met:\n",
    "\n",
    "Fixed Number of Trials (n): The experiment is conducted a fixed number of times.\n",
    "\n",
    "Two Possible Outcomes: Each trial has exactly two possible outcomes, often referred to as \"success\" and \"failure.\"\n",
    "\n",
    "Constant Probability (p): The probability of success (p) is the same for each trial, and the probability of failure is \n",
    "1−p.\n",
    "\n",
    "Independent Trials: The trials are independent, meaning the outcome of one trial does not affect the outcome of another.\n",
    "\n",
    "Example:\n",
    "A classic example is flipping a fair coin multiple times. If you flip the coin 10 times (fixed number of trials), each flip has two possible outcomes (heads or tails), the probability of heads is constant (50%), and each flip is independent."
   ]
  },
  {
   "cell_type": "code",
   "execution_count": null,
   "id": "848b2412-f7c5-4cb2-8f67-e14499a2c374",
   "metadata": {},
   "outputs": [],
   "source": [
    " 9. Explain the properties of the normal distribution and the empirical rule (68-95-99.7 rule)."
   ]
  },
  {
   "cell_type": "code",
   "execution_count": null,
   "id": "be85571c-233a-45ca-9132-9ba22fed273a",
   "metadata": {},
   "outputs": [],
   "source": [
    "Properties of the Normal Distribution:\n",
    "Symmetry: The normal distribution is symmetrical around its mean, meaning the left and right sides are mirror images.\n",
    "Bell-shaped Curve: It has a bell-shaped curve where most of the data points cluster around the mean, with fewer points appearing as you move farther from the mean.\n",
    "Defined by Mean and Standard Deviation: The shape of the normal distribution is completely determined by its mean (μ) and standard deviation (σ). The mean defines the center, and the standard deviation determines the spread.\n",
    "Asymptotic: The tails of the distribution extend infinitely in both directions but never touch the horizontal axis.\n",
    "68-95-99.7 Rule: A key property that describes the distribution of data in a normal curve.\n",
    "The Empirical Rule (68-95-99.7 Rule):\n",
    "The Empirical Rule states that for a normal distribution:\n",
    "\n",
    "68% of the data lies within 1 standard deviation of the mean (μ ± 1σ).\n",
    "95% of the data lies within 2 standard deviations of the mean (μ ± 2σ).\n",
    "99.7% of the data lies within 3 standard deviations of the mean (μ ± 3σ).\n"
   ]
  },
  {
   "cell_type": "code",
   "execution_count": null,
   "id": "bcd6e643-bc98-4b43-9787-6169a9adb837",
   "metadata": {},
   "outputs": [],
   "source": [
    "10. Provide a real-life example of a Poisson process and calculate the probability for a specific event."
   ]
  },
  {
   "cell_type": "code",
   "execution_count": null,
   "id": "7184cb13-5745-44cc-852f-518e1db1aa8b",
   "metadata": {},
   "outputs": [],
   "source": [
    "Real-life Example of a Poisson Process:\n",
    "A Poisson process describes events that occur randomly and independently over a fixed period of time or space, at a constant average rate.\n",
    "\n",
    "Example: The number of cars passing through a toll booth per hour.\n",
    "\n",
    "Suppose that, on average, 3 cars pass through the toll booth every minute. This is a Poisson process because the cars pass independently, and the rate of arrival is constant.\n",
    "\n",
    "Calculating the Probability:\n",
    "To calculate the probability of a specific event (e.g., exactly 5 cars passing through in a minute), we use the Poisson distribution formula:\n",
    "Where:\n",
    "P(X=k) is the probability of \n",
    "𝑘\n",
    "k events occurring,\n",
    "𝜆\n",
    "λ is the average rate of occurrence (3 cars per minute in this example),\n",
    "𝑘\n",
    "k is the number of events (5 cars in this case),\n",
    "𝑒\n",
    "e is Euler's number (approximately 2.718)."
   ]
  },
  {
   "cell_type": "code",
   "execution_count": null,
   "id": "db24382d-86a6-44b5-b23c-fcb67eb91f02",
   "metadata": {},
   "outputs": [],
   "source": [
    "11. Explain what a random variable is and differentiate between discrete and continuous random variables."
   ]
  },
  {
   "cell_type": "code",
   "execution_count": null,
   "id": "a7a82bbf-88e1-41f7-a625-1f07111ceab3",
   "metadata": {},
   "outputs": [],
   "source": [
    "Random Variable:\n",
    "A random variable is a numerical outcome of a random experiment or process. It represents a quantity whose value is determined by the outcome of a random event. Random variables are classified into two types: discrete and continuous.\n",
    "\n",
    "Types of Random Variables:\n",
    "Discrete Random Variable:\n",
    "\n",
    "Takes on countable values, often integers or whole numbers.\n",
    "There is a finite or countably infinite number of possible outcomes.\n",
    "Example: The number of heads in 3 coin tosses (possible outcomes: 0, 1, 2, or 3).\n",
    "Properties: Discrete random variables often have a probability mass function (PMF), which assigns probabilities to specific outcomes.\n",
    "Continuous Random Variable:\n",
    "\n",
    "Takes on uncountably infinite values within a range or interval.\n",
    "The values are typically real numbers, and they can take any value within a continuous range.\n",
    "Example: The height of a person (which could be any value within a range, like 150.5 cm, 170.2 cm, etc.).\n",
    "Properties: Continuous random variables are described by a probability density function (PDF), where the probability of any specific value is zero, and probabilities are calculated over intervals."
   ]
  },
  {
   "cell_type": "code",
   "execution_count": null,
   "id": "a540e756-8640-4b8a-9111-c24c5a90b18c",
   "metadata": {},
   "outputs": [],
   "source": [
    "12. Provide an example dataset, calculate both covariance and correlation, and interpret the results."
   ]
  },
  {
   "cell_type": "code",
   "execution_count": null,
   "id": "2dc5ecbe-6258-4e01-9760-137f5116c8eb",
   "metadata": {},
   "outputs": [],
   "source": [
    "Let's create an example dataset and walk through the steps to calculate both covariance and correlation. We'll use Python and pandas/numpy for calculations.\n",
    "\n",
    "Example Dataset:\n",
    "Let's assume we have data for two variables:\n",
    "\n",
    "X: Number of hours studied\n",
    "Y: Test scores obtained\n",
    "Here is the dataset:\n",
    "\n",
    "Student\tHours Studied (X)\tTest Score (Y)\n",
    "1\t1\t50\n",
    "2\t2\t55\n",
    "3\t3\t60\n",
    "4\t4\t65\n",
    "5\t5\t70\n",
    "Now, let's calculate both covariance and correlation.\n",
    "\n",
    "1. Covariance:\n",
    "Covariance is a measure of how two variables change together. If the variables tend to increase or decrease together, the covariance is positive. If one increases as the other decreases, the covariance is negative. A covariance near 0 indicates no linear relationship.\n",
    "\n",
    "Interpretation:\n",
    "Covariance = 12.5: This positive value indicates that as the number of hours studied increases, the test scores tend to increase as well. The magnitude of 12.5 shows that there is a positive linear relationship between the two variables.\n",
    "\n",
    "Correlation = 1.0: The correlation of 1.0 indicates a perfect positive linear relationship between the two variables. This means that for every additional hour studied, the test score increases by a fixed amount, and the relationship is perfectly linear."
   ]
  },
  {
   "cell_type": "code",
   "execution_count": 1,
   "id": "8cccde12-dacc-4203-816f-149f2a8e9e31",
   "metadata": {},
   "outputs": [
    {
     "name": "stdout",
     "output_type": "stream",
     "text": [
      "Covariance between Hours Studied and Test Score: 12.5\n",
      "Correlation between Hours Studied and Test Score: 1.0\n"
     ]
    }
   ],
   "source": [
    "import numpy as np\n",
    "import pandas as pd\n",
    "data = {\n",
    "    'Hours_Studied': [1, 2, 3, 4, 5],\n",
    "    'Test_Score': [50, 55, 60, 65, 70]\n",
    "}\n",
    "\n",
    "df = pd.DataFrame(data)\n",
    "cov_matrix = np.cov(df['Hours_Studied'], df['Test_Score'])\n",
    "cov_XY = cov_matrix[0, 1] \n",
    "correlation = np.corrcoef(df['Hours_Studied'], df['Test_Score'])[0, 1]\n"
   ]
  },
  {
   "cell_type": "code",
   "execution_count": null,
   "id": "42b0d80d-1b12-4b7a-b4f3-64b34d3392f0",
   "metadata": {},
   "outputs": [],
   "source": []
  }
 ],
 "metadata": {
  "kernelspec": {
   "display_name": "Python 3 (ipykernel)",
   "language": "python",
   "name": "python3"
  },
  "language_info": {
   "codemirror_mode": {
    "name": "ipython",
    "version": 3
   },
   "file_extension": ".py",
   "mimetype": "text/x-python",
   "name": "python",
   "nbconvert_exporter": "python",
   "pygments_lexer": "ipython3",
   "version": "3.13.0"
  }
 },
 "nbformat": 4,
 "nbformat_minor": 5
}
